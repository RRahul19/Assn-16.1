{
 "cells": [
  {
   "cell_type": "code",
   "execution_count": 2,
   "metadata": {},
   "outputs": [
    {
     "name": "stdout",
     "output_type": "stream",
     "text": [
      "Standard Deviation of rents is: 368\n"
     ]
    }
   ],
   "source": [
    "#'''You survey households in your area to find the average rent they are paying. Find the standard deviation from the following data:\n",
    "#$1550, $1700, $900, $850, $1000, $950\n",
    "\n",
    "\n",
    "import statistics\n",
    "\n",
    "rents = [1550, 1700, 900, 850, 1000, 950]\n",
    "\n",
    "print(\"Standard Deviation of rents is:\",(round(float(statistics.stdev(rents)))))"
   ]
  },
  {
   "cell_type": "code",
   "execution_count": null,
   "metadata": {},
   "outputs": [],
   "source": []
  }
 ],
 "metadata": {
  "kernelspec": {
   "display_name": "Python 3",
   "language": "python",
   "name": "python3"
  },
  "language_info": {
   "codemirror_mode": {
    "name": "ipython",
    "version": 3
   },
   "file_extension": ".py",
   "mimetype": "text/x-python",
   "name": "python",
   "nbconvert_exporter": "python",
   "pygments_lexer": "ipython3",
   "version": "3.6.4"
  }
 },
 "nbformat": 4,
 "nbformat_minor": 2
}
